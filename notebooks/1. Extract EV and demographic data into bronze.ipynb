{
 "cells": [
  {
   "cell_type": "markdown",
   "metadata": {
    "application/vnd.databricks.v1+cell": {
     "cellMetadata": {},
     "inputWidgets": {},
     "nuid": "4c9b0cf9-0fbe-4cbf-9db9-62f114b8621f",
     "showTitle": false,
     "title": ""
    }
   },
   "source": [
    "Create a directory in Databricks file system: /dbfs/bronze"
   ]
  },
  {
   "cell_type": "code",
   "execution_count": 0,
   "metadata": {
    "application/vnd.databricks.v1+cell": {
     "cellMetadata": {
      "byteLimit": 2048000,
      "rowLimit": 10000
     },
     "inputWidgets": {},
     "nuid": "eb4c9635-f676-49eb-b14c-79ac17dc69bf",
     "showTitle": false,
     "title": ""
    }
   },
   "outputs": [],
   "source": [
    "%sh\n",
    "rm -r /dbfs/bronze\n",
    "mkdir /dbfs/bronze"
   ]
  },
  {
   "cell_type": "markdown",
   "metadata": {
    "application/vnd.databricks.v1+cell": {
     "cellMetadata": {},
     "inputWidgets": {},
     "nuid": "aa093ac9-af16-456e-92c1-6d8a9fdb9466",
     "showTitle": false,
     "title": ""
    }
   },
   "source": [
    "Download relevant data files into the bronze folder"
   ]
  },
  {
   "cell_type": "code",
   "execution_count": 0,
   "metadata": {
    "application/vnd.databricks.v1+cell": {
     "cellMetadata": {
      "byteLimit": 2048000,
      "rowLimit": 10000
     },
     "inputWidgets": {},
     "nuid": "d2d29729-8076-445e-94fd-e314a6fa8425",
     "showTitle": false,
     "title": ""
    },
    "jupyter": {
     "outputs_hidden": true
    }
   },
   "outputs": [
    {
     "output_type": "stream",
     "name": "stderr",
     "output_type": "stream",
     "text": [
      "--2024-07-02 10:45:59--  https://data-sdublincoco.opendata.arcgis.com/api/download/v1/items/3485251fda4f45569485627ab49d8ace/geojson?layers=0\nResolving data-sdublincoco.opendata.arcgis.com (data-sdublincoco.opendata.arcgis.com)... 54.197.243.216, 23.23.51.121, 44.215.202.167\nConnecting to data-sdublincoco.opendata.arcgis.com (data-sdublincoco.opendata.arcgis.com)|54.197.243.216|:443... connected.\nHTTP request sent, awaiting response... 302 Found\nLocation: https://hub.arcgis.com/api/v3/datasets/3485251fda4f45569485627ab49d8ace_0/downloads/data?format=geojson&spatialRefId=4326&where=1%3D1 [following]\n--2024-07-02 10:46:00--  https://hub.arcgis.com/api/v3/datasets/3485251fda4f45569485627ab49d8ace_0/downloads/data?format=geojson&spatialRefId=4326&where=1%3D1\nResolving hub.arcgis.com (hub.arcgis.com)... 23.23.51.121, 44.215.202.167, 54.197.243.216\nConnecting to hub.arcgis.com (hub.arcgis.com)|23.23.51.121|:443... connected.\nHTTP request sent, awaiting response... 200 OK\nLength: unspecified [application/json]\nSaving to: ‘/dbfs/bronze/Public_EV_Charging_Points_SDCC.geojson’\n\n     0K .......                                                1.31G=0s\n\n2024-07-02 10:46:00 (1.31 GB/s) - ‘/dbfs/bronze/Public_EV_Charging_Points_SDCC.geojson’ saved [7308]\n\n--2024-07-02 10:46:00--  https://ws.cso.ie/public/api.restful/PxStat.Data.Cube_API.ReadDataset/F1011/CSV/1.0/en\nResolving ws.cso.ie (ws.cso.ie)... 146.0.55.192\nConnecting to ws.cso.ie (ws.cso.ie)|146.0.55.192|:443... connected.\nHTTP request sent, awaiting response... 200 OK\nLength: unspecified [text/csv]\nSaving to: ‘/dbfs/bronze/Population_Density_and_Area_Size.csv’\n\n     0K .......... .......... .......... .......... ..........  292K\n    50K .......... .......... .......... .......... ..........  585K\n   100K .......... .......... .......... .......... .......... 9.55M\n   150K .......... .......... .......... .......... ..........  619K\n   200K .......... .......... .......... .......... .......... 9.32M\n   250K .......... .......... .......... .......... .......... 9.65M\n   300K .......... .......... .......... .......... ..........  634K\n   350K .......... .......... .......... .......... .......... 9.28M\n   400K .......... .......... .......... .......... ..........  623K\n   450K .......... .......... .......... .......... .......... 7.94M\n   500K .......... .......... .......... .......... .......... 7.86M\n   550K .......... .......... .......... .......... ..........  632K\n   600K .......... .......... .......... .......... .......... 9.31M\n   650K .......... .......... .......... .......... ..........  640K\n   700K .......... .......... .......... .......... .......... 6.96M\n   750K .......... .......... .......... .......... .......... 12.6M\n   800K .......... .......... .......... .......... ..........  618K\n   850K .......... .......... .......... .......... .......... 9.31M\n   900K .......... .......... .......... .......... ..........  646K\n   950K .......... .......... .......... .......... .......... 5.73M\n  1000K .......... .......... .......... .......... .......... 14.1M\n  1050K .......... .......... .......... .......... ..........  618K\n  1100K .......... .......... .......... .......... .......... 14.3M\n  1150K .......... .......... .......... .......... .......... 12.8M\n  1200K .......... .......... .......... .......... ..........  608K\n  1250K .......... .......... .......... .......... .......... 7.01M\n  1300K .......... .......... .......... .......... ..........  645K\n  1350K .......... .......... .......... .......... .......... 10.4M\n  1400K .......... .......... .......... .......... .......... 13.4M\n  1450K .......... .......... .......... .......... ..........  620K\n  1500K .......... .......... .......... .......... .......... 14.6M\n  1550K .......... .......... .......... .......... ..........  610K\n  1600K .......... .......... .......... .......... .......... 8.33M\n  1650K .......... .......... .......... .......... .......... 10.3M\n  1700K .......... .......... .......... .......... ..........  630K\n  1750K .......... .......... .......... .......... .......... 11.7M\n  1800K .......... .......... .......... .......... ..........  604K\n  1850K .......... .......... .......... .......... .......... 10.2M\n  1900K .......... .......... .......... .......... .......... 10.7M\n  1950K .......... .......... .......... .......... ..........  571K\n  2000K .......... .......... .......... .......... .......... 9.05M\n  2050K .......... .......... .......... .......... ..........  599K\n  2100K .......... .......... .......... .......... .......... 12.7M\n  2150K .......... .......... .......... .......... .......... 15.0M\n  2200K .......... .......... .......... .......... ..........  588K\n  2250K .......... .......... .......... .......... .......... 8.73M\n  2300K .......... .......... .......... .......... .......... 14.8M\n  2350K .......... .......... .......... .......... ..........  631K\n  2400K .......... .......... .......... .......... .......... 10.7M\n  2450K .......... .......... ..........                       7.41M=1.9s\n\n2024-07-02 10:46:03 (1.30 MB/s) - ‘/dbfs/bronze/Population_Density_and_Area_Size.csv’ saved [2540114]\n\n--2024-07-02 10:46:03--  https://raw.githubusercontent.com/johnuzoma/EV-Data-Engineering/main/datasets/Vehicle%20licensing.csv\nResolving raw.githubusercontent.com (raw.githubusercontent.com)... 185.199.109.133, 185.199.110.133, 185.199.111.133, ...\nConnecting to raw.githubusercontent.com (raw.githubusercontent.com)|185.199.109.133|:443... connected.\nHTTP request sent, awaiting response... 200 OK\nLength: 95274 (93K) [text/plain]\nSaving to: ‘/dbfs/bronze/vehicle_licensing.csv’\n\n     0K .......... .......... .......... .......... .......... 53% 3.25M 0s\n    50K .......... .......... .......... .......... ...       100% 4.83M=0.02s\n\n2024-07-02 10:46:03 (3.83 MB/s) - ‘/dbfs/bronze/vehicle_licensing.csv’ saved [95274/95274]\n\n"
     ]
    }
   ],
   "source": [
    "%sh\n",
    "# Download Public EV Charging Points data\n",
    "wget -O /dbfs/bronze/Public_EV_Charging_Points_SDCC.geojson https://data-sdublincoco.opendata.arcgis.com/api/download/v1/items/3485251fda4f45569485627ab49d8ace/geojson?layers=0\n",
    "\n",
    "# Download Demographic data\n",
    "wget -O /dbfs/bronze/Population_Density_and_Area_Size.csv https://ws.cso.ie/public/api.restful/PxStat.Data.Cube_API.ReadDataset/F1011/CSV/1.0/en\n",
    "\n",
    "# Download Vehicle Licensing data\n",
    "wget -O /dbfs/bronze/vehicle_licensing.csv https://raw.githubusercontent.com/johnuzoma/EV-Data-Engineering/main/datasets/Vehicle%20licensing.csv"
   ]
  }
 ],
 "metadata": {
  "application/vnd.databricks.v1+notebook": {
   "dashboards": [],
   "environmentMetadata": null,
   "language": "python",
   "notebookMetadata": {
    "mostRecentlyExecutedCommandWithImplicitDF": {
     "commandId": 588035336307778,
     "dataframes": [
      "_sqldf"
     ]
    },
    "pythonIndentUnit": 4
   },
   "notebookName": "1. Extract EV and demographic data into bronze",
   "widgets": {}
  }
 },
 "nbformat": 4,
 "nbformat_minor": 0
}
