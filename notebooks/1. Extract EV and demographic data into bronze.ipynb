{
 "cells": [
  {
   "cell_type": "markdown",
   "metadata": {
    "application/vnd.databricks.v1+cell": {
     "cellMetadata": {},
     "inputWidgets": {},
     "nuid": "4c9b0cf9-0fbe-4cbf-9db9-62f114b8621f",
     "showTitle": false,
     "title": ""
    }
   },
   "source": [
    "Create a directory in Databricks file system: /dbfs/bronze"
   ]
  },
  {
   "cell_type": "code",
   "execution_count": 0,
   "metadata": {
    "application/vnd.databricks.v1+cell": {
     "cellMetadata": {
      "byteLimit": 2048000,
      "rowLimit": 10000
     },
     "inputWidgets": {},
     "nuid": "eb4c9635-f676-49eb-b14c-79ac17dc69bf",
     "showTitle": false,
     "title": ""
    }
   },
   "outputs": [],
   "source": [
    "%sh\n",
    "rm -r /dbfs/bronze\n",
    "mkdir /dbfs/bronze"
   ]
  },
  {
   "cell_type": "markdown",
   "metadata": {
    "application/vnd.databricks.v1+cell": {
     "cellMetadata": {},
     "inputWidgets": {},
     "nuid": "aa093ac9-af16-456e-92c1-6d8a9fdb9466",
     "showTitle": false,
     "title": ""
    }
   },
   "source": [
    "Download relevant data files into the bronze folder"
   ]
  },
  {
   "cell_type": "code",
   "execution_count": 0,
   "metadata": {
    "application/vnd.databricks.v1+cell": {
     "cellMetadata": {
      "byteLimit": 2048000,
      "rowLimit": 10000
     },
     "inputWidgets": {},
     "nuid": "d2d29729-8076-445e-94fd-e314a6fa8425",
     "showTitle": false,
     "title": ""
    },
    "jupyter": {
     "outputs_hidden": true
    }
   },
   "outputs": [],
   "source": [
    "%sh\n",
    "# Download Public EV Charging Points data\n",
    "wget -O /dbfs/bronze/Public_EV_Charging_Points_SDCC.geojson https://data-sdublincoco.opendata.arcgis.com/api/download/v1/items/3485251fda4f45569485627ab49d8ace/geojson?layers=0\n",
    "\n",
    "# Download Demographic data\n",
    "wget -O /dbfs/bronze/Population_Density_and_Area_Size.csv https://ws.cso.ie/public/api.restful/PxStat.Data.Cube_API.ReadDataset/F1011/CSV/1.0/en\n",
    "\n",
    "# Download Vehicle Licensing data\n",
    "wget -O /dbfs/bronze/vehicle_licensing.csv https://raw.githubusercontent.com/johnuzoma/EV-Data-Engineering/main/datasets/Vehicle%20licensing.csv"
   ]
  }
 ],
 "metadata": {
  "application/vnd.databricks.v1+notebook": {
   "dashboards": [],
   "environmentMetadata": null,
   "language": "python",
   "notebookMetadata": {
    "mostRecentlyExecutedCommandWithImplicitDF": {
     "commandId": 588035336307778,
     "dataframes": [
      "_sqldf"
     ]
    },
    "pythonIndentUnit": 4
   },
   "notebookName": "1. Extract EV and demographic data into bronze",
   "widgets": {}
  }
 },
 "nbformat": 4,
 "nbformat_minor": 0
}
