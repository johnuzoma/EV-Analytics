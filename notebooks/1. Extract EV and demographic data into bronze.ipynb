{
 "cells": [
  {
   "cell_type": "markdown",
   "metadata": {
    "application/vnd.databricks.v1+cell": {
     "cellMetadata": {},
     "inputWidgets": {},
     "nuid": "4c9b0cf9-0fbe-4cbf-9db9-62f114b8621f",
     "showTitle": false,
     "title": ""
    }
   },
   "source": [
    "Create a directory in Databricks file system: /dbfs/bronze"
   ]
  },
  {
   "cell_type": "code",
   "execution_count": 0,
   "metadata": {
    "application/vnd.databricks.v1+cell": {
     "cellMetadata": {
      "byteLimit": 2048000,
      "rowLimit": 10000
     },
     "inputWidgets": {},
     "nuid": "eb4c9635-f676-49eb-b14c-79ac17dc69bf",
     "showTitle": false,
     "title": ""
    }
   },
   "outputs": [],
   "source": [
    "%sh\n",
    "rm -r /dbfs/bronze\n",
    "mkdir /dbfs/bronze"
   ]
  },
  {
   "cell_type": "markdown",
   "metadata": {
    "application/vnd.databricks.v1+cell": {
     "cellMetadata": {},
     "inputWidgets": {},
     "nuid": "aa093ac9-af16-456e-92c1-6d8a9fdb9466",
     "showTitle": false,
     "title": ""
    }
   },
   "source": [
    "Download relevant data files into the bronze folder"
   ]
  },
  {
   "cell_type": "code",
   "execution_count": 0,
   "metadata": {
    "application/vnd.databricks.v1+cell": {
     "cellMetadata": {
      "byteLimit": 2048000,
      "rowLimit": 10000
     },
     "inputWidgets": {},
     "nuid": "d2d29729-8076-445e-94fd-e314a6fa8425",
     "showTitle": false,
     "title": ""
    }
   },
   "outputs": [
    {
     "output_type": "stream",
     "name": "stderr",
     "output_type": "stream",
     "text": [
      "--2024-07-02 09:16:50--  https://data-sdublincoco.opendata.arcgis.com/api/download/v1/items/3485251fda4f45569485627ab49d8ace/geojson?layers=0\nResolving data-sdublincoco.opendata.arcgis.com (data-sdublincoco.opendata.arcgis.com)... 54.197.243.216, 44.215.202.167, 23.23.51.121\nConnecting to data-sdublincoco.opendata.arcgis.com (data-sdublincoco.opendata.arcgis.com)|54.197.243.216|:443... connected.\nHTTP request sent, awaiting response... 302 Found\nLocation: https://hub.arcgis.com/api/v3/datasets/3485251fda4f45569485627ab49d8ace_0/downloads/data?format=geojson&spatialRefId=4326&where=1%3D1 [following]\n--2024-07-02 09:16:51--  https://hub.arcgis.com/api/v3/datasets/3485251fda4f45569485627ab49d8ace_0/downloads/data?format=geojson&spatialRefId=4326&where=1%3D1\nResolving hub.arcgis.com (hub.arcgis.com)... 23.23.51.121, 44.215.202.167, 54.197.243.216\nConnecting to hub.arcgis.com (hub.arcgis.com)|23.23.51.121|:443... connected.\nHTTP request sent, awaiting response... 200 OK\nLength: unspecified [application/json]\nSaving to: ‘/dbfs/bronze/Public_EV_Charging_Points_SDCC.geojson’\n\n     0K .......                                                1.28G=0s\n\n2024-07-02 09:16:51 (1.28 GB/s) - ‘/dbfs/bronze/Public_EV_Charging_Points_SDCC.geojson’ saved [7308]\n\n--2024-07-02 09:16:51--  https://ws.cso.ie/public/api.restful/PxStat.Data.Cube_API.ReadDataset/F1011/CSV/1.0/en\nResolving ws.cso.ie (ws.cso.ie)... 146.0.55.192\nConnecting to ws.cso.ie (ws.cso.ie)|146.0.55.192|:443... connected.\nHTTP request sent, awaiting response... 200 OK\nLength: unspecified [text/csv]\nSaving to: ‘/dbfs/bronze/Population_Density_and_Area_Size.csv’\n\n     0K .......... .......... .......... .......... ..........  304K\n    50K .......... .......... .......... .......... ..........  571K\n   100K .......... .......... .......... .......... .......... 6.59M\n   150K .......... .......... .......... .......... ..........  630K\n   200K .......... .......... .......... .......... .......... 7.71M\n   250K .......... .......... .......... .......... ..........  644K\n   300K .......... .......... .......... .......... .......... 10.4M\n   350K .......... .......... .......... .......... .......... 6.13M\n   400K .......... .......... .......... .......... ..........  648K\n   450K .......... .......... .......... .......... .......... 5.16M\n   500K .......... .......... .......... .......... ..........  651K\n   550K .......... .......... .......... .......... .......... 11.2M\n   600K .......... .......... .......... .......... .......... 6.05M\n   650K .......... .......... .......... .......... ..........  644K\n   700K .......... .......... .......... .......... .......... 6.27M\n   750K .......... .......... .......... .......... .......... 10.4M\n   800K .......... .......... .......... .......... ..........  666K\n   850K .......... .......... .......... .......... .......... 5.19M\n   900K .......... .......... .......... .......... ..........  638K\n   950K .......... .......... .......... .......... .......... 6.66M\n  1000K .......... .......... .......... .......... ..........  650K\n  1050K .......... .......... .......... .......... .......... 7.09M\n  1100K .......... .......... .......... .......... .......... 4.71M\n  1150K .......... .......... .......... .......... ..........  691K\n  1200K .......... .......... .......... .......... .......... 8.54M\n  1250K .......... .......... .......... .......... ..........  612K\n  1300K .......... .......... .......... .......... .......... 9.83M\n  1350K .......... .......... .......... .......... .......... 6.65M\n  1400K .......... .......... .......... .......... ..........  653K\n  1450K .......... .......... .......... .......... .......... 12.5M\n  1500K .......... .......... .......... .......... .......... 5.89M\n  1550K .......... .......... .......... .......... ..........  634K\n  1600K .......... .......... .......... .......... .......... 7.65M\n  1650K .......... .......... .......... .......... ..........  603K\n  1700K .......... .......... .......... .......... .......... 13.1M\n  1750K .......... .......... .......... .......... .......... 10.4M\n  1800K .......... .......... .......... .......... ..........  614K\n  1850K .......... .......... .......... .......... .......... 13.1M\n  1900K .......... .......... .......... .......... ..........  604K\n  1950K .......... .......... .......... .......... .......... 11.1M\n  2000K .......... .......... .......... .......... .......... 12.0M\n  2050K .......... .......... .......... .......... ..........  606K\n  2100K .......... .......... .......... .......... .......... 8.20M\n  2150K .......... .......... .......... .......... ..........  635K\n  2200K .......... .......... .......... .......... .......... 8.74M\n  2250K .......... .......... .......... .......... .......... 15.7M\n  2300K .......... .......... .......... .......... ..........  613K\n  2350K .......... .......... .......... .......... .......... 12.7M\n  2400K .......... .......... .......... .......... ..........  613K\n  2450K .......... .......... ..........                       12.4M=1.9s\n\n2024-07-02 09:16:53 (1.26 MB/s) - ‘/dbfs/bronze/Population_Density_and_Area_Size.csv’ saved [2540114]\n\n--2024-07-02 09:16:54--  https://github.com/johnuzoma/EV-Data-Engineering/blob/main/datasets/Vehicle%20licensing.csv\nResolving github.com (github.com)... 140.82.114.3\nConnecting to github.com (github.com)|140.82.114.3|:443... connected.\nHTTP request sent, awaiting response... 200 OK\nLength: unspecified [text/html]\nSaving to: ‘/dbfs/bronze/vehicle_licensing.csv’\n\n     0K .......... .......... .......... .......... .......... 3.58M\n    50K .......... .......... .......... .......... .......... 4.14M\n   100K .......... .......... .......... .......... .......... 4.90M\n   150K .......... .......... .......... .......... .......... 5.91M\n   200K .......... .......... .......... .......... .......... 5.74M\n   250K .......... .......                                     3.81M=0.06s\n\n2024-07-02 09:16:54 (4.61 MB/s) - ‘/dbfs/bronze/vehicle_licensing.csv’ saved [273800]\n\n"
     ]
    }
   ],
   "source": [
    "%sh\n",
    "# Download Public EV Charging Points data\n",
    "wget -O /dbfs/bronze/Public_EV_Charging_Points_SDCC.geojson https://data-sdublincoco.opendata.arcgis.com/api/download/v1/items/3485251fda4f45569485627ab49d8ace/geojson?layers=0\n",
    "\n",
    "# Download Demographic data\n",
    "wget -O /dbfs/bronze/Population_Density_and_Area_Size.csv https://ws.cso.ie/public/api.restful/PxStat.Data.Cube_API.ReadDataset/F1011/CSV/1.0/en\n",
    "\n",
    "# Download Vehicle Licensing data\n",
    "wget -O /dbfs/bronze/vehicle_licensing.csv https://github.com/johnuzoma/EV-Data-Engineering/blob/main/datasets/Vehicle%20licensing.csv"
   ]
  }
 ],
 "metadata": {
  "application/vnd.databricks.v1+notebook": {
   "dashboards": [],
   "environmentMetadata": null,
   "language": "python",
   "notebookMetadata": {
    "mostRecentlyExecutedCommandWithImplicitDF": {
     "commandId": 588035336307778,
     "dataframes": [
      "_sqldf"
     ]
    },
    "pythonIndentUnit": 4
   },
   "notebookName": "1. Extract EV and demographic data into bronze",
   "widgets": {}
  }
 },
 "nbformat": 4,
 "nbformat_minor": 0
}
