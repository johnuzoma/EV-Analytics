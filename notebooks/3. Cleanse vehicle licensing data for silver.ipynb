{
 "cells": [
  {
   "cell_type": "markdown",
   "metadata": {
    "application/vnd.databricks.v1+cell": {
     "cellMetadata": {
      "byteLimit": 2048000,
      "rowLimit": 10000
     },
     "inputWidgets": {},
     "nuid": "c8290839-1a1a-4954-93a6-32375da1bbe6",
     "showTitle": false,
     "title": ""
    }
   },
   "source": [
    "Create schema for csv file and import it as a dataframe"
   ]
  },
  {
   "cell_type": "code",
   "execution_count": 0,
   "metadata": {
    "application/vnd.databricks.v1+cell": {
     "cellMetadata": {
      "byteLimit": 2048000,
      "rowLimit": 10000
     },
     "inputWidgets": {},
     "nuid": "7a45f969-285c-4164-879d-6008c31d9e1d",
     "showTitle": false,
     "title": ""
    }
   },
   "outputs": [],
   "source": [
    "from pyspark.sql.types import StructType, StructField, ShortType, StringType, LongType\n",
    "\n",
    "df_schema = StructType([\n",
    "    StructField(\"STATISTIC\", StringType()),\n",
    "    StructField(\"STATISTIC Label\", StringType()),\n",
    "    StructField(\"TLIST(A1)\", ShortType()),\n",
    "    StructField(\"Year\", ShortType()),\n",
    "    StructField(\"Town\", StringType()),\n",
    "    StructField(\"C02172V02618\", StringType()),\n",
    "    StructField(\"Type of Vehicle Registration\", StringType()),\n",
    "    StructField(\"C01841V02268\", StringType()),\n",
    "    StructField(\"Type of Fuel\", StringType()),\n",
    "    StructField(\"UNIT\", StringType()),\n",
    "    StructField(\"VALUE\", LongType())\n",
    "])\n",
    "\n",
    "df = spark.read.load('/bronze/vehicle_licensing.csv', format='csv', header=True, schema=df_schema)"
   ]
  },
  {
   "cell_type": "markdown",
   "metadata": {
    "application/vnd.databricks.v1+cell": {
     "cellMetadata": {
      "byteLimit": 2048000,
      "rowLimit": 10000
     },
     "inputWidgets": {},
     "nuid": "c71d8f1c-cc2d-45fa-9b0d-986c4ebbd3a8",
     "showTitle": false,
     "title": ""
    }
   },
   "source": [
    "Drop some columns: \n",
    "- The first 2 columns are redundant.\n",
    "- The 3rd column is a duplicate of the fourth column.\n",
    "- The 6th and 8th columns have no meaning.\n",
    "- The 10th column is redundant."
   ]
  },
  {
   "cell_type": "code",
   "execution_count": 0,
   "metadata": {
    "application/vnd.databricks.v1+cell": {
     "cellMetadata": {
      "byteLimit": 2048000,
      "rowLimit": 10000
     },
     "inputWidgets": {},
     "nuid": "0d4b301a-2d3a-4330-b78e-b302b426a4c2",
     "showTitle": false,
     "title": ""
    }
   },
   "outputs": [],
   "source": [
    "# Get the column names\n",
    "all_columns = df.columns\n",
    "\n",
    "# Specify the indices of the columns to drop\n",
    "indices_to_drop = [0, 1, 2, 5, 7, 9]\n",
    "\n",
    "# Get the column names to drop based on their indices\n",
    "columns_to_drop = [all_columns[i] for i in indices_to_drop]\n",
    "\n",
    "# Drop the specified columns\n",
    "df = df.drop(*columns_to_drop)\n"
   ]
  },
  {
   "cell_type": "markdown",
   "metadata": {
    "application/vnd.databricks.v1+cell": {
     "cellMetadata": {
      "byteLimit": 2048000,
      "rowLimit": 10000
     },
     "inputWidgets": {},
     "nuid": "162c5e45-81f1-4a02-9645-97f708b00eac",
     "showTitle": false,
     "title": ""
    }
   },
   "source": [
    "Rename some columns"
   ]
  },
  {
   "cell_type": "code",
   "execution_count": 0,
   "metadata": {
    "application/vnd.databricks.v1+cell": {
     "cellMetadata": {
      "byteLimit": 2048000,
      "rowLimit": 10000
     },
     "inputWidgets": {},
     "nuid": "ab6184f5-2c52-433e-9fd7-aee679415925",
     "showTitle": false,
     "title": ""
    }
   },
   "outputs": [],
   "source": [
    "# Dictionary of columns to rename and their new names\n",
    "columns_to_rename = {\n",
    "    \"Type of Vehicle Registration\": \"Type_of_vehicle_registration\",\n",
    "    \"Type of Fuel\": \"Type_of_fuel\",\n",
    "    \"VALUE\": \"No_of_licensed_vehicles\"\n",
    "}\n",
    "\n",
    "# Rename columns\n",
    "for old_col, new_col in columns_to_rename.items():\n",
    "    df = df.withColumnRenamed(old_col, new_col)"
   ]
  },
  {
   "cell_type": "markdown",
   "metadata": {
    "application/vnd.databricks.v1+cell": {
     "cellMetadata": {
      "byteLimit": 2048000,
      "rowLimit": 10000
     },
     "inputWidgets": {},
     "nuid": "d9318cb9-cfd6-442d-8dd2-dfeecfee0af0",
     "showTitle": false,
     "title": ""
    }
   },
   "source": [
    "Replace null and blank values in string columns with \"Unknown\""
   ]
  },
  {
   "cell_type": "code",
   "execution_count": 0,
   "metadata": {
    "application/vnd.databricks.v1+cell": {
     "cellMetadata": {
      "byteLimit": 2048000,
      "rowLimit": 10000
     },
     "inputWidgets": {},
     "nuid": "c982dc9a-3cc9-4806-ac3b-0eb0dd1e8b47",
     "showTitle": false,
     "title": ""
    }
   },
   "outputs": [],
   "source": [
    "from pyspark.sql.functions import when, lit, col\n",
    " \n",
    "string_cols = ['Town', 'Type_of_vehicle_registration', 'Type_of_fuel']\n",
    "\n",
    "for col_name in string_cols:\n",
    "    df = df.withColumn(col_name, when(\n",
    "        (col(col_name).isNull() | (col(col_name)==\"\")), \n",
    "        lit(\"Unknown\")\n",
    "    ).otherwise(col(col_name)))"
   ]
  },
  {
   "cell_type": "markdown",
   "metadata": {
    "application/vnd.databricks.v1+cell": {
     "cellMetadata": {
      "byteLimit": 2048000,
      "rowLimit": 10000
     },
     "inputWidgets": {},
     "nuid": "690e158e-b634-4760-8bd4-7d09f7de4716",
     "showTitle": false,
     "title": ""
    }
   },
   "source": [
    "Extract the left-most word from **Town** before delimiter using regular expressions"
   ]
  },
  {
   "cell_type": "code",
   "execution_count": 0,
   "metadata": {
    "application/vnd.databricks.v1+cell": {
     "cellMetadata": {
      "byteLimit": 2048000,
      "rowLimit": 10000
     },
     "inputWidgets": {},
     "nuid": "0407706d-427f-4af7-b44d-81c6669d30aa",
     "showTitle": false,
     "title": ""
    }
   },
   "outputs": [],
   "source": [
    "from pyspark.sql.functions import regexp_extract\n",
    "\n",
    "# Use regular expression to extract the first word based on multiple delimiters\n",
    "df = df.withColumn(\"Town\", regexp_extract(col(\"Town\"), r\"^[^\\s-_]+\", 0))"
   ]
  },
  {
   "cell_type": "markdown",
   "metadata": {
    "application/vnd.databricks.v1+cell": {
     "cellMetadata": {
      "byteLimit": 2048000,
      "rowLimit": 10000
     },
     "inputWidgets": {},
     "nuid": "2a25138d-55af-4437-93db-34abf241320b",
     "showTitle": false,
     "title": ""
    }
   },
   "source": [
    "Trim string columns"
   ]
  },
  {
   "cell_type": "code",
   "execution_count": 0,
   "metadata": {
    "application/vnd.databricks.v1+cell": {
     "cellMetadata": {
      "byteLimit": 2048000,
      "rowLimit": 10000
     },
     "inputWidgets": {},
     "nuid": "1951d367-4021-4f97-9137-a6a85b1edf60",
     "showTitle": false,
     "title": ""
    }
   },
   "outputs": [],
   "source": [
    "from pyspark.sql.functions import trim\n",
    "\n",
    "for col_name in string_cols:\n",
    "    df = df.withColumn(col_name, trim(df[col_name]))"
   ]
  },
  {
   "cell_type": "markdown",
   "metadata": {
    "application/vnd.databricks.v1+cell": {
     "cellMetadata": {
      "byteLimit": 2048000,
      "rowLimit": 10000
     },
     "inputWidgets": {},
     "nuid": "5cb47f60-b37d-4334-ac1a-2413a335928d",
     "showTitle": false,
     "title": ""
    }
   },
   "source": [
    "Write to silver layer as a delta table"
   ]
  },
  {
   "cell_type": "code",
   "execution_count": 0,
   "metadata": {
    "application/vnd.databricks.v1+cell": {
     "cellMetadata": {
      "byteLimit": 2048000,
      "rowLimit": 10000
     },
     "inputWidgets": {},
     "nuid": "7ed579d6-90ad-4b5b-8ec6-f365e82a44c7",
     "showTitle": false,
     "title": ""
    }
   },
   "outputs": [],
   "source": [
    "from delta.tables import DeltaTable\n",
    "\n",
    "df.write.format(\"delta\").mode(\"append\").save(\"/delta/vehicle_licensing_silver\")"
   ]
  }
 ],
 "metadata": {
  "application/vnd.databricks.v1+notebook": {
   "dashboards": [],
   "environmentMetadata": null,
   "language": "python",
   "notebookMetadata": {
    "pythonIndentUnit": 4
   },
   "notebookName": "3. Cleanse vehicle licensing data for silver",
   "widgets": {}
  }
 },
 "nbformat": 4,
 "nbformat_minor": 0
}
