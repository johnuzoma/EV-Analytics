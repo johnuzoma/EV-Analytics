{
 "cells": [
  {
   "cell_type": "markdown",
   "metadata": {
    "application/vnd.databricks.v1+cell": {
     "cellMetadata": {
      "byteLimit": 2048000,
      "rowLimit": 10000
     },
     "inputWidgets": {},
     "nuid": "7f9b6abc-a021-4584-8623-f81405080acf",
     "showTitle": false,
     "title": ""
    }
   },
   "source": [
    "Import fact and dimension tables as dataframes"
   ]
  },
  {
   "cell_type": "code",
   "execution_count": 0,
   "metadata": {
    "application/vnd.databricks.v1+cell": {
     "cellMetadata": {
      "byteLimit": 2048000,
      "rowLimit": 10000
     },
     "inputWidgets": {},
     "nuid": "b7e219ab-5d1f-475d-b459-ed65c21a5ff1",
     "showTitle": false,
     "title": ""
    }
   },
   "outputs": [],
   "source": [
    "fact_df = spark.read.format(\"delta\").load(\"/delta/fact_EV_gold\")\n",
    "dim_df = spark.read.format(\"delta\").load(\"/delta/dim_demography_gold\")"
   ]
  },
  {
   "cell_type": "markdown",
   "metadata": {
    "application/vnd.databricks.v1+cell": {
     "cellMetadata": {
      "byteLimit": 2048000,
      "rowLimit": 10000
     },
     "inputWidgets": {},
     "nuid": "7751c34a-8419-417e-8ed6-c1465bb9ffc2",
     "showTitle": false,
     "title": ""
    }
   },
   "source": [
    "Create views based on the dataframes to enable SQL-based querying"
   ]
  },
  {
   "cell_type": "code",
   "execution_count": 0,
   "metadata": {
    "application/vnd.databricks.v1+cell": {
     "cellMetadata": {
      "byteLimit": 2048000,
      "implicitDf": true,
      "rowLimit": 10000
     },
     "inputWidgets": {},
     "nuid": "fc994665-758e-43be-a926-b87b66dfeac5",
     "showTitle": false,
     "title": ""
    }
   },
   "outputs": [],
   "source": [
    "fact_df.createOrReplaceTempView(\"Fact_EV_Gold\")\n",
    "dim_df.createOrReplaceTempView(\"Dim_Demography_Gold\")"
   ]
  },
  {
   "cell_type": "markdown",
   "metadata": {
    "application/vnd.databricks.v1+cell": {
     "cellMetadata": {
      "byteLimit": 2048000,
      "rowLimit": 10000
     },
     "inputWidgets": {},
     "nuid": "668b94e1-87b2-4a1a-acaa-0f9f6a6fcb91",
     "showTitle": false,
     "title": ""
    }
   },
   "source": [
    "Identify potential locations for new EV charge points"
   ]
  },
  {
   "cell_type": "code",
   "execution_count": 0,
   "metadata": {
    "application/vnd.databricks.v1+cell": {
     "cellMetadata": {
      "byteLimit": 2048000,
      "implicitDf": true,
      "rowLimit": 10000
     },
     "inputWidgets": {},
     "nuid": "1a50a470-c190-4b75-a003-a0c38f0c6100",
     "showTitle": false,
     "title": ""
    }
   },
   "outputs": [
    {
     "output_type": "display_data",
     "data": {
      "text/html": [
       "<style scoped>\n",
       "  .table-result-container {\n",
       "    max-height: 300px;\n",
       "    overflow: auto;\n",
       "  }\n",
       "  table, th, td {\n",
       "    border: 1px solid black;\n",
       "    border-collapse: collapse;\n",
       "  }\n",
       "  th, td {\n",
       "    padding: 5px;\n",
       "  }\n",
       "  th {\n",
       "    text-align: left;\n",
       "  }\n",
       "</style><div class='table-result-container'><table class='table-result'><thead style='background-color: white'><tr><th>Town</th><th>Population_density_in_persons_per_sq_km</th><th>No_of_licensed_electric_vehicles</th><th>No_of_chargers</th><th>EV_to_Charger_Ratio</th></tr></thead><tbody><tr><td>Tallaght</td><td>50889.8</td><td>55927</td><td>11</td><td>5084.3</td></tr><tr><td>Lucan</td><td>8362.6</td><td>37048</td><td>8</td><td>4631.0</td></tr><tr><td>Clondalkin</td><td>17512.8</td><td>26391</td><td>43</td><td>613.7</td></tr><tr><td>Rathfarnham</td><td>21548.9</td><td>1130</td><td>13</td><td>86.9</td></tr><tr><td>Firhouse</td><td>11888.6</td><td>2</td><td>4</td><td>0.5</td></tr></tbody></table></div>"
      ]
     },
     "metadata": {
      "application/vnd.databricks.v1+output": {
       "addedWidgets": {},
       "aggData": [],
       "aggError": "",
       "aggOverflow": false,
       "aggSchema": [],
       "aggSeriesLimitReached": false,
       "aggType": "",
       "arguments": {},
       "columnCustomDisplayInfos": {},
       "data": [
        [
         "Tallaght",
         50889.8,
         55927,
         11,
         5084.3
        ],
        [
         "Lucan",
         8362.6,
         37048,
         8,
         4631.0
        ],
        [
         "Clondalkin",
         17512.8,
         26391,
         43,
         613.7
        ],
        [
         "Rathfarnham",
         21548.9,
         1130,
         13,
         86.9
        ],
        [
         "Firhouse",
         11888.6,
         2,
         4,
         0.5
        ]
       ],
       "datasetInfos": [],
       "dbfsResultPath": null,
       "isJsonSchema": true,
       "metadata": {
        "dataframeName": "_sqldf",
        "executionCount": 17
       },
       "overflow": false,
       "plotOptions": {
        "customPlotOptions": {},
        "displayType": "table",
        "pivotAggregation": null,
        "pivotColumns": null,
        "xColumns": null,
        "yColumns": null
       },
       "removedWidgets": [],
       "schema": [
        {
         "metadata": "{}",
         "name": "Town",
         "type": "\"string\""
        },
        {
         "metadata": "{}",
         "name": "Population_density_in_persons_per_sq_km",
         "type": "\"double\""
        },
        {
         "metadata": "{}",
         "name": "No_of_licensed_electric_vehicles",
         "type": "\"long\""
        },
        {
         "metadata": "{}",
         "name": "No_of_chargers",
         "type": "\"long\""
        },
        {
         "metadata": "{}",
         "name": "EV_to_Charger_Ratio",
         "type": "\"double\""
        }
       ],
       "type": "table"
      }
     },
     "output_type": "display_data"
    },
    {
     "output_type": "display_data",
     "data": {
      "text/plain": [
       "Databricks visualization. Run in Databricks to view."
      ]
     },
     "metadata": {
      "application/vnd.databricks.v1.subcommand+json": {
       "baseErrorDetails": null,
       "bindings": {},
       "collapsed": false,
       "command": "%sql WITH q AS (WITH EV_Charger_Ratio AS ( \n  SELECT \n    Town, \n    No_of_licensed_electric_vehicles, \n    No_of_chargers, \n    CASE \n        WHEN No_of_chargers = 0 THEN No_of_licensed_electric_vehicles \n        ELSE ROUND(No_of_licensed_electric_vehicles / No_of_chargers, 1) \n    END AS EV_to_Charger_Ratio \n  FROM Fact_EV_Gold \n) \n\n\nSELECT \n  A.Town, \n  B.Population_density AS Population_density_in_persons_per_sq_km, \n  A.No_of_licensed_electric_vehicles, \n  A.No_of_chargers, \n  A.EV_to_Charger_Ratio \nFROM \n  EV_Charger_Ratio A \nINNER JOIN \n  Dim_Demography_Gold B \nON \n  A.Town = B.Town \nORDER BY \n  A.EV_to_Charger_Ratio DESC, \n  B.Population_density DESC) SELECT `Town`,SUM(`EV_to_Charger_Ratio`) `column_ba44eb9b15`,SUM(`Population_density_in_persons_per_sq_km`) `column_ba44eb9b19` FROM q GROUP BY `Town`",
       "commandTitle": "Visualization 1",
       "commandType": "auto",
       "commandVersion": 0,
       "commentThread": [],
       "commentsVisible": false,
       "contentSha256Hex": null,
       "customPlotOptions": {
        "redashChart": [
         {
          "key": "type",
          "value": "CHART"
         },
         {
          "key": "options",
          "value": {
           "alignYAxesAtZero": true,
           "coefficient": 1,
           "columnConfigurationMap": {
            "x": {
             "column": "Town",
             "id": "column_ba44eb9b13"
            },
            "y": [
             {
              "column": "EV_to_Charger_Ratio",
              "id": "column_ba44eb9b15",
              "transform": "SUM"
             },
             {
              "column": "Population_density_in_persons_per_sq_km",
              "id": "column_ba44eb9b19",
              "transform": "SUM"
             }
            ]
           },
           "dateTimeFormat": "DD/MM/YYYY HH:mm",
           "direction": {
            "type": "counterclockwise"
           },
           "error_y": {
            "type": "data",
            "visible": true
           },
           "globalSeriesType": "column",
           "hideXAxis": false,
           "hideYAxes": true,
           "isAggregationOn": true,
           "legend": {
            "traceorder": "normal"
           },
           "missingValuesAsZero": true,
           "numberFormat": "0a.0",
           "percentFormat": "0[.]00%",
           "reverseX": false,
           "series": {
            "error_y": {
             "type": "data",
             "visible": true
            },
            "stacking": null
           },
           "seriesOptions": {
            "column_ba44eb9b15": {
             "name": "EV_to_Charger_Ratio",
             "type": "column",
             "yAxis": 0
            },
            "column_ba44eb9b19": {
             "name": "Population_density_in_persons_per_sq_km",
             "type": "column",
             "yAxis": 0
            }
           },
           "showDataLabels": true,
           "sizemode": "diameter",
           "sortX": false,
           "sortY": true,
           "swappedAxes": false,
           "textFormat": "",
           "useAggregationsUi": true,
           "valuesOptions": {},
           "version": 2,
           "xAxis": {
            "labels": {
             "enabled": true
            },
            "type": "-"
           },
           "yAxis": [
            {
             "title": {
              "text": null
             },
             "type": "-"
            },
            {
             "opposite": true,
             "type": "-"
            }
           ]
          }
         }
        ]
       },
       "datasetPreviewNameToCmdIdMap": {},
       "diffDeletes": [],
       "diffInserts": [],
       "displayType": "redashChart",
       "error": null,
       "errorDetails": null,
       "errorSummary": null,
       "errorTraceType": null,
       "finishTime": 0,
       "globalVars": {},
       "guid": "",
       "height": "auto",
       "hideCommandCode": false,
       "hideCommandResult": false,
       "iPythonMetadata": null,
       "inputWidgets": {},
       "isLockedInExamMode": false,
       "latestUser": "a user",
       "latestUserId": null,
       "listResultMetadata": null,
       "metadata": {
        "byteLimit": 2048000,
        "implicitDf": true,
        "rowLimit": 10000
       },
       "nuid": "c0bea394-2bd6-4222-a154-2687954ea0f3",
       "origId": 0,
       "parentHierarchy": [],
       "pivotAggregation": null,
       "pivotColumns": null,
       "position": 7.0,
       "resultDbfsErrorMessage": null,
       "resultDbfsStatus": "INLINED_IN_TREE",
       "results": null,
       "showCommandTitle": false,
       "startTime": 0,
       "state": "input",
       "streamStates": {},
       "subcommandOptions": {
        "queryPlan": {
         "groups": [
          {
           "column": "Town",
           "type": "column"
          }
         ],
         "selects": [
          {
           "column": "Town",
           "type": "column"
          },
          {
           "alias": "column_ba44eb9b15",
           "args": [
            {
             "column": "EV_to_Charger_Ratio",
             "type": "column"
            }
           ],
           "function": "SUM",
           "type": "function"
          },
          {
           "alias": "column_ba44eb9b19",
           "args": [
            {
             "column": "Population_density_in_persons_per_sq_km",
             "type": "column"
            }
           ],
           "function": "SUM",
           "type": "function"
          }
         ]
        }
       },
       "submitTime": 0,
       "subtype": "tableResultSubCmd.visualization",
       "tableResultIndex": 0,
       "useConsistentColors": false,
       "version": "CommandV1",
       "width": "auto",
       "workflows": [],
       "xColumns": null,
       "yColumns": null
      }
     },
     "output_type": "display_data"
    }
   ],
   "source": [
    "%sql\n",
    "-- Write CTE to calculate the ratio of electric vehicles to chargers to identify areas with high EV concentration and limited charging infrastructure\n",
    ";WITH EV_Charger_Ratio AS ( \n",
    "  SELECT \n",
    "    Town, \n",
    "    No_of_licensed_electric_vehicles, \n",
    "    No_of_chargers, \n",
    "    CASE \n",
    "        WHEN No_of_chargers = 0 THEN No_of_licensed_electric_vehicles \n",
    "        ELSE ROUND(No_of_licensed_electric_vehicles / No_of_chargers, 1) \n",
    "    END AS EV_to_Charger_Ratio \n",
    "  FROM Fact_EV_Gold \n",
    ") \n",
    "\n",
    "-- Join the above CTE with demographic data\n",
    "SELECT \n",
    "  A.Town, \n",
    "  B.Population_density AS Population_density_in_persons_per_sq_km, \n",
    "  A.No_of_licensed_electric_vehicles, \n",
    "  A.No_of_chargers, \n",
    "  A.EV_to_Charger_Ratio \n",
    "FROM \n",
    "  EV_Charger_Ratio A \n",
    "INNER JOIN \n",
    "  Dim_Demography_Gold B \n",
    "ON \n",
    "  A.Town = B.Town \n",
    "ORDER BY \n",
    "  A.EV_to_Charger_Ratio DESC, \n",
    "  B.Population_density DESC;"
   ]
  }
 ],
 "metadata": {
  "application/vnd.databricks.v1+notebook": {
   "dashboards": [
    {
     "elements": [
      {
       "dashboardResultIndex": null,
       "elementNUID": "c0bea394-2bd6-4222-a154-2687954ea0f3",
       "elementType": "command",
       "guid": "eac93c05-46bb-4df4-9a4f-320a95ad5b78",
       "options": {
        "autoScaleImg": false,
        "scale": 0,
        "showRunButton": true,
        "showTitle": true,
        "title": "South dublin areas with high EV to charger ratios",
        "titleAlign": "left"
       },
       "position": {
        "height": 6,
        "width": 14,
        "x": 0,
        "y": 0,
        "z": null
       },
       "resultIndex": null
      }
     ],
     "globalVars": {},
     "guid": "",
     "layoutOption": {
      "grid": true,
      "stack": false
     },
     "nuid": "b65bfd58-69ef-4fbc-b0ea-247eb459a9ff",
     "origId": 1380036328362339,
     "title": "My Dashboard",
     "version": "DashboardViewV1",
     "width": 1440
    }
   ],
   "environmentMetadata": null,
   "language": "python",
   "notebookMetadata": {
    "mostRecentlyExecutedCommandWithImplicitDF": {
     "commandId": 1380036328362335,
     "dataframes": [
      "_sqldf"
     ]
    },
    "pythonIndentUnit": 4
   },
   "notebookName": "6. Generate report",
   "widgets": {}
  }
 },
 "nbformat": 4,
 "nbformat_minor": 0
}
